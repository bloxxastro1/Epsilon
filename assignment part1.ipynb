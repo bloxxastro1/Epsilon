{
 "cells": [
  {
   "cell_type": "code",
   "execution_count": 6,
   "metadata": {},
   "outputs": [
    {
     "name": "stdout",
     "output_type": "stream",
     "text": [
      "[{'id': 1, 'email': 'george.bluth@reqres.in', 'first_name': 'George', 'last_name': 'Bluth', 'avatar': 'https://reqres.in/img/faces/1-image.jpg'}, {'id': 2, 'email': 'janet.weaver@reqres.in', 'first_name': 'Janet', 'last_name': 'Weaver', 'avatar': 'https://reqres.in/img/faces/2-image.jpg'}, {'id': 3, 'email': 'emma.wong@reqres.in', 'first_name': 'Emma', 'last_name': 'Wong', 'avatar': 'https://reqres.in/img/faces/3-image.jpg'}, {'id': 4, 'email': 'eve.holt@reqres.in', 'first_name': 'Eve', 'last_name': 'Holt', 'avatar': 'https://reqres.in/img/faces/4-image.jpg'}, {'id': 5, 'email': 'charles.morris@reqres.in', 'first_name': 'Charles', 'last_name': 'Morris', 'avatar': 'https://reqres.in/img/faces/5-image.jpg'}, {'id': 6, 'email': 'tracey.ramos@reqres.in', 'first_name': 'Tracey', 'last_name': 'Ramos', 'avatar': 'https://reqres.in/img/faces/6-image.jpg'}]\n"
     ]
    }
   ],
   "source": [
    "import requests \n",
    "import csv\n",
    "r = requests.get('https://reqres.in/api/users')\n",
    "data = r.json()['data']\n",
    "print (data)\n",
    "\n",
    "with open('assignmet.csv', 'w', newline= '') as file:\n",
    "\n",
    "    writer = csv.DictWriter(file, fieldnames= ['id', 'email', 'first_name','last_name','avatar'])\n",
    "    writer.writeheader()\n",
    "\n",
    "    for d in data:\n",
    "\n",
    "        id = d['id']\n",
    "        email = d['email']\n",
    "        fname = d['first_name']\n",
    "        lname = d['last_name']\n",
    "        avatar = d['avatar']\n",
    "        writer.writerow({'id': id, 'email': email, 'first_name': fname,'last_name': lname,'avatar':avatar})"
   ]
  }
 ],
 "metadata": {
  "kernelspec": {
   "display_name": "Python 3",
   "language": "python",
   "name": "python3"
  },
  "language_info": {
   "codemirror_mode": {
    "name": "ipython",
    "version": 3
   },
   "file_extension": ".py",
   "mimetype": "text/x-python",
   "name": "python",
   "nbconvert_exporter": "python",
   "pygments_lexer": "ipython3",
   "version": "3.13.0"
  }
 },
 "nbformat": 4,
 "nbformat_minor": 2
}
